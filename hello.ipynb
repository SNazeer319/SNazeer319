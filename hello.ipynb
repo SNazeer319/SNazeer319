{
 "cells": [
  {
   "cell_type": "code",
   "execution_count": 2,
   "metadata": {},
   "outputs": [
    {
     "name": "stdout",
     "output_type": "stream",
     "text": [
      "hello world\n"
     ]
    }
   ],
   "source": [
    "print(\"hello world\")\n"
   ]
  },
  {
   "cell_type": "code",
   "execution_count": 8,
   "metadata": {},
   "outputs": [],
   "source": [
    "import tkinter as tk\n",
    "\n",
    "class Calculator:\n",
    "    def __init__(self, master):\n",
    "        self.master = master\n",
    "        master.title(\"Calculator\")\n",
    "\n",
    "        self.result_var = tk.StringVar()\n",
    "\n",
    "        self.entry = tk.Entry(master, textvariable=self.result_var, font=('Arial', 24), bd=10, insertwidth=2, width=14, borderwidth=4)\n",
    "        self.entry.grid(row=0, column=0, columnspan=4)\n",
    "\n",
    "        self.create_buttons()\n",
    "\n",
    "    def create_buttons(self):\n",
    "        buttons = [\n",
    "            '7', '8', '9', '/',\n",
    "            '4', '5', '6', '*',\n",
    "            '1', '2', '3', '-',\n",
    "            '0', '.', '=', '+'\n",
    "        ]\n",
    "\n",
    "        row_val = 1\n",
    "        col_val = 0\n",
    "\n",
    "        for button in buttons:\n",
    "            tk.Button(self.master, text=button, padx=20, pady=20, font=('Arial', 18),\n",
    "                      command=lambda b=button: self.on_button_click(b)).grid(row=row_val, column=col_val)\n",
    "            col_val += 1\n",
    "            if col_val > 3:\n",
    "                col_val = 0\n",
    "                row_val += 1\n",
    "\n",
    "        tk.Button(self.master, text='C', padx=20, pady=20, font=('Arial', 18),\n",
    "                  command=self.clear).grid(row=row_val, column=0, columnspan=4)\n",
    "\n",
    "    def on_button_click(self, char):\n",
    "        if char == '=':\n",
    "            try:\n",
    "                result = eval(self.result_var.get())\n",
    "                self.result_var.set(result)\n",
    "            except Exception as e:\n",
    "                self.result_var.set(\"Error\")\n",
    "        else:\n",
    "            current_text = self.result_var.get()\n",
    "            self.result_var.set(current_text + char)\n",
    "\n",
    "    def clear(self):\n",
    "        self.result_var.set(\"\")\n",
    "\n",
    "\n",
    "if __name__ == \"__main__\":\n",
    "    root = tk.Tk()\n",
    "    calculator = Calculator(root)\n",
    "    root.mainloop()\n",
    "    "
   ]
  },
  {
   "cell_type": "code",
   "execution_count": null,
   "metadata": {},
   "outputs": [
    {
     "ename": "",
     "evalue": "",
     "output_type": "error",
     "traceback": [
      "\u001b[1;31mFailed to start the Kernel. \n",
      "\u001b[1;31mUnable to start Kernel 'Python 3.12.5' due to a timeout waiting for the ports to get used. \n",
      "\u001b[1;31mView Jupyter <a href='command:jupyter.viewOutput'>log</a> for further details."
     ]
    }
   ],
   "source": [
    "import tkinter as tk\n",
    "\n",
    "class Calculator:\n",
    "    def __init__(self, master):\n",
    "        self.master = master\n",
    "        master.title(\"Calculator\")\n",
    "\n",
    "        self.result_var = tk.StringVar()\n",
    "\n",
    "        self.entry = tk.Entry(master, textvariable=self.result_var, font=('Arial', 24), bd=10, insertwidth=2, width=14, borderwidth=4)\n",
    "        self.entry.grid(row=0, column=0, columnspan=4)\n",
    "\n",
    "        self.create_buttons()\n",
    "\n",
    "    def create_buttons(self):\n",
    "        buttons = [\n",
    "            '7', '8', '9', '/',\n",
    "            '4', '5', '6', '*',\n",
    "            '1', '2', '3', '-',\n",
    "            '0', '.', '=', '+'\n",
    "        ]\n",
    "\n",
    "        row_val = 1\n",
    "        col_val = 0\n",
    "\n",
    "        for button in buttons:\n",
    "            tk.Button(self.master, text=button, padx=20, pady=20, font=('Arial', 18),\n",
    "                      command=lambda b=button: self.on_button_click(b)).grid(row=row_val, column=col_val)\n",
    "            col_val += 1\n",
    "            if col_val > 3:\n",
    "                col_val = 0\n",
    "                row_val += 1\n",
    "\n",
    "        # Clear button\n",
    "        tk.Button(self.master, text='C', padx=20, pady=20, font=('Arial', 18),\n",
    "                  command=self.clear).grid(row=row_val, column=0, columnspan=2)\n",
    "\n",
    "        # Backspace button\n",
    "        tk.Button(self.master, text='←', padx=20, pady=20, font=('Arial', 18),\n",
    "                  command=self.backspace).grid(row=row_val, column=2, columnspan=2)\n",
    "\n",
    "    def on_button_click(self, char):\n",
    "        if char == '=':\n",
    "            try:\n",
    "                result = eval(self.result_var.get())\n",
    "                self.result_var.set(result)\n",
    "            except Exception as e:\n",
    "                self.result_var.set(\"Error\")\n",
    "        else:\n",
    "            current_text = self.result_var.get()\n",
    "            self.result_var.set(current_text + char)\n",
    "\n",
    "    def clear(self):\n",
    "        self.result_var.set(\"\")\n",
    "\n",
    "    def backspace(self):\n",
    "        current_text = self.result_var.get()\n",
    "        # Remove the last character\n",
    "        self.result_var.set(current_text[:-1])\n",
    "\n",
    "\n",
    "if __name__ == \"__main__\":\n",
    "    root = tk.Tk()\n",
    "    calculator = Calculator(root)\n",
    "    root.mainloop()\n"
   ]
  },
  {
   "cell_type": "code",
   "execution_count": 2,
   "metadata": {},
   "outputs": [
    {
     "name": "stdout",
     "output_type": "stream",
     "text": [
      "<module 'numpy' from 'c:\\\\Users\\\\Salman\\\\AppData\\\\Local\\\\Programs\\\\Python\\\\Python312\\\\Lib\\\\site-packages\\\\numpy\\\\__init__.py'>\n"
     ]
    }
   ],
   "source": [
    "import numpy as np\n",
    "numpy = np \n",
    "print(numpy)"
   ]
  },
  {
   "cell_type": "code",
   "execution_count": 3,
   "metadata": {},
   "outputs": [
    {
     "name": "stdout",
     "output_type": "stream",
     "text": [
      "[1 2 3 4]\n"
     ]
    }
   ],
   "source": [
    "import numpy as np \n",
    "array = np.array([1,2,3,4])\n",
    "print(array)"
   ]
  },
  {
   "cell_type": "code",
   "execution_count": 6,
   "metadata": {},
   "outputs": [
    {
     "name": "stdout",
     "output_type": "stream",
     "text": [
      "[1 2 3 4] 1\n"
     ]
    }
   ],
   "source": [
    "import numpy as np \n",
    "array = np.array([1,2,3,4])\n",
    "print(array, array.ndim)"
   ]
  },
  {
   "cell_type": "code",
   "execution_count": 8,
   "metadata": {},
   "outputs": [
    {
     "name": "stdout",
     "output_type": "stream",
     "text": [
      "[[1 2 3 4]\n",
      " [6 7 8 9]] 2\n"
     ]
    }
   ],
   "source": [
    "import numpy as np \n",
    "array = np.array([(1,2,3,4),(6,7,8,9)])\n",
    "print(array, array.ndim)"
   ]
  },
  {
   "cell_type": "code",
   "execution_count": 9,
   "metadata": {},
   "outputs": [
    {
     "name": "stdout",
     "output_type": "stream",
     "text": [
      "[[ 1  2  3  4]\n",
      " [ 6  7  8  9]\n",
      " [10 11 12 13]] 2\n"
     ]
    }
   ],
   "source": [
    "import numpy as np \n",
    "array = np.array([(1,2,3,4),(6,7,8,9),(10,11,12,13)])\n",
    "print(array, array.ndim)"
   ]
  },
  {
   "cell_type": "code",
   "execution_count": 14,
   "metadata": {},
   "outputs": [
    {
     "name": "stdout",
     "output_type": "stream",
     "text": [
      "[1 2 3 4 5] 1 5 (5,) int64\n"
     ]
    }
   ],
   "source": [
    "import numpy as np \n",
    "array = np.array([1,2,3,4,5])\n",
    "print(array, array.ndim, array.size, array.shape, array.dtype)"
   ]
  },
  {
   "cell_type": "code",
   "execution_count": 16,
   "metadata": {},
   "outputs": [
    {
     "name": "stdout",
     "output_type": "stream",
     "text": [
      "[7] 1\n"
     ]
    }
   ],
   "source": [
    "import numpy as np \n",
    "array = np.array([7])\n",
    "print(array, array.ndim)"
   ]
  },
  {
   "cell_type": "code",
   "execution_count": 17,
   "metadata": {},
   "outputs": [
    {
     "name": "stdout",
     "output_type": "stream",
     "text": [
      "[[1 2]\n",
      " [3 4]] 2\n"
     ]
    }
   ],
   "source": [
    "import numpy as np \n",
    "array = np.array([ [1,2],[3,4] ])\n",
    "print(array, array.ndim)"
   ]
  },
  {
   "cell_type": "code",
   "execution_count": 19,
   "metadata": {},
   "outputs": [
    {
     "name": "stdout",
     "output_type": "stream",
     "text": [
      "[[[1 2]\n",
      "  [3 4]]\n",
      "\n",
      " [[5 6]\n",
      "  [7 8]]] 3\n"
     ]
    }
   ],
   "source": [
    "import numpy as np \n",
    "array = np.array([ [[1,2],[3,4]],[[5,6],[7,8]] ])\n",
    "print(array, array.ndim)"
   ]
  },
  {
   "cell_type": "code",
   "execution_count": 24,
   "metadata": {},
   "outputs": [
    {
     "name": "stdout",
     "output_type": "stream",
     "text": [
      "['1' 'hello' '3' '4'] 1\n",
      "hello\n"
     ]
    }
   ],
   "source": [
    "import numpy as np \n",
    "array = np.array([1,\"hello\",3,4])\n",
    "print(array, array.ndim)\n",
    "print(array[1])"
   ]
  },
  {
   "cell_type": "code",
   "execution_count": 53,
   "metadata": {},
   "outputs": [
    {
     "name": "stdout",
     "output_type": "stream",
     "text": [
      "[[1 2 3]\n",
      " [4 5 6]] 2\n",
      "2\n"
     ]
    }
   ],
   "source": [
    "import numpy as np \n",
    "array = np.array([ [1,2,3],[4,5,6] ])\n",
    "print(array, array.ndim)\n",
    "print(array[0,1])"
   ]
  },
  {
   "cell_type": "code",
   "execution_count": 52,
   "metadata": {},
   "outputs": [
    {
     "name": "stdout",
     "output_type": "stream",
     "text": [
      "[[[ 1  2  3]\n",
      "  [ 4  5  6]]\n",
      "\n",
      " [[ 7  8  9]\n",
      "  [10 11 12]]] 3\n",
      "8\n"
     ]
    }
   ],
   "source": [
    "import numpy as np \n",
    "array = np.array([ [[1,2,3],[4,5,6]], [[7,8,9],[10,11,12]] ])\n",
    "print(array, array.ndim)\n",
    "print(array[1,0,1])"
   ]
  },
  {
   "cell_type": "code",
   "execution_count": null,
   "metadata": {},
   "outputs": [],
   "source": []
  }
 ],
 "metadata": {
  "kernelspec": {
   "display_name": "Python 3",
   "language": "python",
   "name": "python3"
  },
  "language_info": {
   "codemirror_mode": {
    "name": "ipython",
    "version": 3
   },
   "file_extension": ".py",
   "mimetype": "text/x-python",
   "name": "python",
   "nbconvert_exporter": "python",
   "pygments_lexer": "ipython3",
   "version": "3.12.5"
  }
 },
 "nbformat": 4,
 "nbformat_minor": 2
}
